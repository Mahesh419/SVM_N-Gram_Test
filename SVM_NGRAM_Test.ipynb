{
 "cells": [
  {
   "cell_type": "code",
   "execution_count": 43,
   "metadata": {},
   "outputs": [],
   "source": [
    "import pandas as pd\n",
    "import numpy as np\n",
    "import matplotlib.pyplot as plt\n",
    "import seaborn as sns\n",
    "%matplotlib inline\n",
    "sns.set_style('whitegrid')"
   ]
  },
  {
   "cell_type": "code",
   "execution_count": 44,
   "metadata": {},
   "outputs": [
    {
     "data": {
      "text/html": [
       "<div>\n",
       "<style scoped>\n",
       "    .dataframe tbody tr th:only-of-type {\n",
       "        vertical-align: middle;\n",
       "    }\n",
       "\n",
       "    .dataframe tbody tr th {\n",
       "        vertical-align: top;\n",
       "    }\n",
       "\n",
       "    .dataframe thead th {\n",
       "        text-align: right;\n",
       "    }\n",
       "</style>\n",
       "<table border=\"1\" class=\"dataframe\">\n",
       "  <thead>\n",
       "    <tr style=\"text-align: right;\">\n",
       "      <th></th>\n",
       "      <th>ඉන්න බෑ සිංහලුනේ ඇඟේ ලේ නටනවා එකා පිට ගිහින් හරි acca ගිහින් හරි මේ සිංහල රටේ අනාගත පරපුර වෙනුවෙන් අපි ඉතුරු කරන්න ඕන</th>\n",
       "      <th>1</th>\n",
       "    </tr>\n",
       "  </thead>\n",
       "  <tbody>\n",
       "    <tr>\n",
       "      <th>0</th>\n",
       "      <td>තම්බි දැනගනිල්ලා. යකෝ හමුදුරුවෝ හදන්නේ මෙක අවු...</td>\n",
       "      <td>1</td>\n",
       "    </tr>\n",
       "    <tr>\n",
       "      <th>1</th>\n",
       "      <td>මුස්ලිම් ආගම ස්භාව දහමටත් මනුෂ්‍යත්වයටත් විරැද...</td>\n",
       "      <td>1</td>\n",
       "    </tr>\n",
       "    <tr>\n",
       "      <th>2</th>\n",
       "      <td>අපිට මේ සිද්දියෙන් පිලිතුරක් ඔනේ මුස්ලිම් ආගම ...</td>\n",
       "      <td>1</td>\n",
       "    </tr>\n",
       "    <tr>\n",
       "      <th>3</th>\n",
       "      <td>තම්බි කෙලොගන්න හදන්නෙ...කට පියාගන හිටපියව්</td>\n",
       "      <td>1</td>\n",
       "    </tr>\n",
       "    <tr>\n",
       "      <th>5</th>\n",
       "      <td>ඔහොම හරියන්නෙ නෑ තම්බි ටික සමූල ගාතනයක් කරමු උ...</td>\n",
       "      <td>1</td>\n",
       "    </tr>\n",
       "  </tbody>\n",
       "</table>\n",
       "</div>"
      ],
      "text/plain": [
       "  ඉන්න බෑ සිංහලුනේ ඇඟේ ලේ නටනවා එකා පිට ගිහින් හරි acca ගිහින් හරි මේ සිංහල රටේ අනාගත පරපුර වෙනුවෙන් අපි ඉතුරු කරන්න ඕන  \\\n",
       "0  තම්බි දැනගනිල්ලා. යකෝ හමුදුරුවෝ හදන්නේ මෙක අවු...                                                                      \n",
       "1  මුස්ලිම් ආගම ස්භාව දහමටත් මනුෂ්‍යත්වයටත් විරැද...                                                                      \n",
       "2  අපිට මේ සිද්දියෙන් පිලිතුරක් ඔනේ මුස්ලිම් ආගම ...                                                                      \n",
       "3         තම්බි කෙලොගන්න හදන්නෙ...කට පියාගන හිටපියව්                                                                      \n",
       "5  ඔහොම හරියන්නෙ නෑ තම්බි ටික සමූල ගාතනයක් කරමු උ...                                                                      \n",
       "\n",
       "   1  \n",
       "0  1  \n",
       "1  1  \n",
       "2  1  \n",
       "3  1  \n",
       "5  1  "
      ]
     },
     "execution_count": 44,
     "metadata": {},
     "output_type": "execute_result"
    }
   ],
   "source": [
    "df = pd.read_excel('racist_dataset.xlsx');\n",
    "df = df.dropna()\n",
    "df.head()"
   ]
  },
  {
   "cell_type": "code",
   "execution_count": 45,
   "metadata": {},
   "outputs": [
    {
     "data": {
      "text/html": [
       "<div>\n",
       "<style scoped>\n",
       "    .dataframe tbody tr th:only-of-type {\n",
       "        vertical-align: middle;\n",
       "    }\n",
       "\n",
       "    .dataframe tbody tr th {\n",
       "        vertical-align: top;\n",
       "    }\n",
       "\n",
       "    .dataframe thead th {\n",
       "        text-align: right;\n",
       "    }\n",
       "</style>\n",
       "<table border=\"1\" class=\"dataframe\">\n",
       "  <thead>\n",
       "    <tr style=\"text-align: right;\">\n",
       "      <th></th>\n",
       "      <th>comment</th>\n",
       "      <th>label</th>\n",
       "    </tr>\n",
       "  </thead>\n",
       "  <tbody>\n",
       "    <tr>\n",
       "      <th>0</th>\n",
       "      <td>තම්බි දැනගනිල්ලා. යකෝ හමුදුරුවෝ හදන්නේ මෙක අවු...</td>\n",
       "      <td>1</td>\n",
       "    </tr>\n",
       "    <tr>\n",
       "      <th>1</th>\n",
       "      <td>මුස්ලිම් ආගම ස්භාව දහමටත් මනුෂ්‍යත්වයටත් විරැද...</td>\n",
       "      <td>1</td>\n",
       "    </tr>\n",
       "    <tr>\n",
       "      <th>2</th>\n",
       "      <td>අපිට මේ සිද්දියෙන් පිලිතුරක් ඔනේ මුස්ලිම් ආගම ...</td>\n",
       "      <td>1</td>\n",
       "    </tr>\n",
       "    <tr>\n",
       "      <th>3</th>\n",
       "      <td>තම්බි කෙලොගන්න හදන්නෙ...කට පියාගන හිටපියව්</td>\n",
       "      <td>1</td>\n",
       "    </tr>\n",
       "    <tr>\n",
       "      <th>5</th>\n",
       "      <td>ඔහොම හරියන්නෙ නෑ තම්බි ටික සමූල ගාතනයක් කරමු උ...</td>\n",
       "      <td>1</td>\n",
       "    </tr>\n",
       "  </tbody>\n",
       "</table>\n",
       "</div>"
      ],
      "text/plain": [
       "                                             comment  label\n",
       "0  තම්බි දැනගනිල්ලා. යකෝ හමුදුරුවෝ හදන්නේ මෙක අවු...      1\n",
       "1  මුස්ලිම් ආගම ස්භාව දහමටත් මනුෂ්‍යත්වයටත් විරැද...      1\n",
       "2  අපිට මේ සිද්දියෙන් පිලිතුරක් ඔනේ මුස්ලිම් ආගම ...      1\n",
       "3         තම්බි කෙලොගන්න හදන්නෙ...කට පියාගන හිටපියව්      1\n",
       "5  ඔහොම හරියන්නෙ නෑ තම්බි ටික සමූල ගාතනයක් කරමු උ...      1"
      ]
     },
     "execution_count": 45,
     "metadata": {},
     "output_type": "execute_result"
    }
   ],
   "source": [
    "col_name = ['comment', 'label']\n",
    "df.columns = col_name\n",
    "df.head()"
   ]
  },
  {
   "cell_type": "code",
   "execution_count": 46,
   "metadata": {},
   "outputs": [],
   "source": [
    "X = df['comment']\n",
    "y = df['label']"
   ]
  },
  {
   "cell_type": "code",
   "execution_count": 47,
   "metadata": {},
   "outputs": [],
   "source": [
    "from sklearn.model_selection import train_test_split"
   ]
  },
  {
   "cell_type": "code",
   "execution_count": 48,
   "metadata": {},
   "outputs": [],
   "source": [
    "X_train, X_test, y_train, y_test = train_test_split(X, y, test_size = 0.2, random_state=9)"
   ]
  },
  {
   "cell_type": "code",
   "execution_count": 49,
   "metadata": {},
   "outputs": [],
   "source": [
    "from sklearn.feature_extraction.text import TfidfVectorizer"
   ]
  },
  {
   "cell_type": "code",
   "execution_count": 50,
   "metadata": {},
   "outputs": [],
   "source": [
    "vectorizer = TfidfVectorizer()"
   ]
  },
  {
   "cell_type": "code",
   "execution_count": 51,
   "metadata": {},
   "outputs": [],
   "source": [
    "X_train_vec = vectorizer.fit_transform(X_train)\n",
    "X_test_vec = vectorizer.transform(X_test)"
   ]
  },
  {
   "cell_type": "code",
   "execution_count": 52,
   "metadata": {},
   "outputs": [],
   "source": [
    "from sklearn import svm"
   ]
  },
  {
   "cell_type": "code",
   "execution_count": 53,
   "metadata": {},
   "outputs": [],
   "source": [
    "C = 0.7\n",
    "clf = svm.SVC(kernel='linear', C=C)\n",
    "#clf = svm.SVC(kernel='rbf', C=C)\n",
    "#clf = svm.LinearSVC(C=C, loss='hinge')"
   ]
  },
  {
   "cell_type": "code",
   "execution_count": 54,
   "metadata": {},
   "outputs": [
    {
     "data": {
      "text/plain": [
       "SVC(C=0.7, cache_size=200, class_weight=None, coef0=0.0,\n",
       "  decision_function_shape='ovr', degree=3, gamma='auto_deprecated',\n",
       "  kernel='linear', max_iter=-1, probability=False, random_state=None,\n",
       "  shrinking=True, tol=0.001, verbose=False)"
      ]
     },
     "execution_count": 54,
     "metadata": {},
     "output_type": "execute_result"
    }
   ],
   "source": [
    "clf.fit(X_train_vec, y_train)"
   ]
  },
  {
   "cell_type": "code",
   "execution_count": 55,
   "metadata": {},
   "outputs": [],
   "source": [
    "from sklearn.model_selection import cross_val_score\n",
    "from sklearn.model_selection import cross_val_predict\n",
    "from sklearn.metrics import confusion_matrix\n",
    "from sklearn.metrics import precision_score, recall_score, f1_score"
   ]
  },
  {
   "cell_type": "code",
   "execution_count": 56,
   "metadata": {},
   "outputs": [
    {
     "name": "stdout",
     "output_type": "stream",
     "text": [
      "Average Accuarcy: \t 0.7383\n",
      "Accuarcy SD: \t\t 0.1105\n"
     ]
    }
   ],
   "source": [
    "res = cross_val_score(clf, X_train_vec, y_train, cv=10, scoring='accuracy')\n",
    "print('Average Accuarcy: \\t {0:.4f}'.format(np.mean(res)))\n",
    "print('Accuarcy SD: \\t\\t {0:.4f}'.format(np.std(res)))"
   ]
  },
  {
   "cell_type": "code",
   "execution_count": 57,
   "metadata": {},
   "outputs": [],
   "source": [
    "y_train_pred = cross_val_predict(clf, X_train_vec, y_train, cv=3)"
   ]
  },
  {
   "cell_type": "code",
   "execution_count": 58,
   "metadata": {},
   "outputs": [
    {
     "data": {
      "text/plain": [
       "array([[111,   3],\n",
       "       [ 49,  25]])"
      ]
     },
     "execution_count": 58,
     "metadata": {},
     "output_type": "execute_result"
    }
   ],
   "source": [
    "confusion_matrix(y_train, y_train_pred)"
   ]
  },
  {
   "cell_type": "code",
   "execution_count": 59,
   "metadata": {},
   "outputs": [
    {
     "name": "stdout",
     "output_type": "stream",
     "text": [
      "Precision score: \t 0.7721\n",
      "Recall score: \t 0.7234\n",
      "F1 score: \t 0.6843\n"
     ]
    }
   ],
   "source": [
    "print('Precision score: \\t {0:0.4f}'.format(precision_score(y_train, \n",
    "                                                          y_train_pred, \n",
    "                                                          average='weighted')))\n",
    "print('Recall score: \\t {0:0.4f}'.format(recall_score(y_train, \n",
    "                                                          y_train_pred, \n",
    "                                                          average='weighted')))\n",
    "print('F1 score: \\t {0:0.4f}'.format(f1_score(y_train, \n",
    "                                                          y_train_pred, \n",
    "                                                          average='weighted')))"
   ]
  },
  {
   "cell_type": "code",
   "execution_count": 60,
   "metadata": {},
   "outputs": [],
   "source": [
    "y_test_pred = cross_val_predict(clf, X_test_vec, y_test, cv=3)"
   ]
  },
  {
   "cell_type": "code",
   "execution_count": 61,
   "metadata": {},
   "outputs": [
    {
     "data": {
      "text/plain": [
       "array([[16,  8],\n",
       "       [12, 12]])"
      ]
     },
     "execution_count": 61,
     "metadata": {},
     "output_type": "execute_result"
    }
   ],
   "source": [
    "confusion_matrix(y_test, y_test_pred)"
   ]
  },
  {
   "cell_type": "code",
   "execution_count": 62,
   "metadata": {},
   "outputs": [
    {
     "name": "stdout",
     "output_type": "stream",
     "text": [
      "Precision score: \t 0.6000\n",
      "Recall score: \t 0.5000\n",
      "F1 score: \t 0.5455\n"
     ]
    }
   ],
   "source": [
    "print('Precision score: \\t {0:0.4f}'.format(precision_score(y_test, \n",
    "                                               y_test_pred)))\n",
    "print('Recall score: \\t {0:0.4f}'.format(recall_score(y_test, \n",
    "                                             y_test_pred)))\n",
    "print('F1 score: \\t {0:0.4f}'.format(f1_score(y_test, \n",
    "                                             y_test_pred)))"
   ]
  },
  {
   "cell_type": "code",
   "execution_count": 65,
   "metadata": {},
   "outputs": [
    {
     "name": "stdout",
     "output_type": "stream",
     "text": [
      "Hate\n"
     ]
    }
   ],
   "source": [
    "#review = np.array(['ගෙරි හම්බයා'])\n",
    "review = np.array(['ඒ උනාට සිංහල නෑනෙ'])\n",
    "#review = np.array(['ඉල්ලන දෙයක් දෙන්නම් මට සහය දෙන්න'])\n",
    "#review = np.array(['සිංහල'])\n",
    "#review = np.array(['තම්බි'])\n",
    "\n",
    "review.reshape(-1, 1)\n",
    "\n",
    "res = clf.predict(vectorizer.transform(review))\n",
    "\n",
    "if (res == 1):\n",
    "    print('Hate')\n",
    "else:\n",
    "    print('Non hate')    "
   ]
  },
  {
   "cell_type": "code",
   "execution_count": null,
   "metadata": {},
   "outputs": [],
   "source": []
  },
  {
   "cell_type": "code",
   "execution_count": null,
   "metadata": {},
   "outputs": [],
   "source": []
  }
 ],
 "metadata": {
  "kernelspec": {
   "display_name": "Python 3",
   "language": "python",
   "name": "python3"
  },
  "language_info": {
   "codemirror_mode": {
    "name": "ipython",
    "version": 3
   },
   "file_extension": ".py",
   "mimetype": "text/x-python",
   "name": "python",
   "nbconvert_exporter": "python",
   "pygments_lexer": "ipython3",
   "version": "3.6.8"
  }
 },
 "nbformat": 4,
 "nbformat_minor": 2
}
